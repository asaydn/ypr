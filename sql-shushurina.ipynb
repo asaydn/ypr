{
 "cells": [
  {
   "cell_type": "markdown",
   "metadata": {},
   "source": [
    "<table style=\"float:left; border:none\">\n",
    "   <tr style=\"border:none; background-color: #ffffff\">\n",
    "       <td style=\"border:none\">\n",
    "           <a href=\"https://praktikum.yandex.ru/\">     \n",
    "           <img \n",
    "               src=\"https://yastatic.net/q/praktikum/v0.116.12-fix3-1580741332/static/apple-touch-icon.png\" \n",
    "               style=\"width:50px\"\n",
    "           >\n",
    "           </a>    \n",
    "       </td>\n",
    "       <td style=\"border:none\">\n",
    "           <h1>Яндекс.Практикум</h1>\n",
    "       </td>\n",
    "   </tr>\n",
    "</table>\n",
    "\n",
    "<div style=\"float:right;\"><h2>Выпускной проект<p>\n",
    "    Проект по SQL</h2></div>"
   ]
  },
  {
   "cell_type": "markdown",
   "metadata": {},
   "source": [
    "<a name=\"000\"></a>\n",
    "\n",
    "<div class=\"col-md-3\">\n",
    "  <ul class=\"nav flex-column nav-pills\">\n",
    "    <li class=\"active\"><a class=\"nav-link\" id=\"home-tab\" data-toggle=\"pill\" href=\"#describe\" role=\"tab\" aria-controls=\"describe\" aria-selected=\"true\">Описание проекта</a></li>\n",
    "    <li><a class=\"nav-link\" id=\"profile-tab\" data-toggle=\"pill\" href=\"#contents\" role=\"tab\" aria-controls=\"contents\" aria-selected=\"false\">Оглавление</a></li>\n",
    "    <li><a class=\"nav-link\" id=\"profile-tab\" data-toggle=\"pill\" href=\"#step1\" role=\"tab\" aria-controls=\"step1\" aria-selected=\"false\">Описание данных</a></li>\n",
    "    <li><a class=\"nav-link\" id=\"profile-tab\" data-toggle=\"pill\" href=\"#output11\" role=\"tab\" aria-controls=\"output11\" aria-selected=\"false\">Посчитайте затраты на каждый рекламный источник.</a></li>\n",
    "    <li><a class=\"nav-link\" id=\"profile-tab\" data-toggle=\"pill\" href=\"#output12\" role=\"tab\" aria-controls=\"output12\" aria-selected=\"false\">Посчитайте выручку от заказов, сделанных с настольных ПК (тип устройства desktop)</a></li>\n",
    "    <li><a class=\"nav-link\" id=\"profile-tab\" data-toggle=\"pill\" href=\"#output13\" role=\"tab\" aria-controls=\"output13\" aria-selected=\"false\">Ввод новой метрики эффективности рекламы - дневные затраты на рекламу на пользователя по источнику</a></li>\n",
    "    <li><a class=\"nav-link\" id=\"profile-tab\" data-toggle=\"pill\" href=\"#output111\" role=\"tab\" aria-controls=\"output111\" aria-selected=\"false\">Финальные выводы</a></li></ul>\n",
    "      </div>\n",
    "\n",
    "\n",
    "<div class=\"tab-content\">\n",
    "<div id=\"describe\" class=\"tab-pane fade in active\">\n",
    "    <h3 style=\"margin-left:270px\">Описание проекта</h3>\n",
    "    <p style=\"margin-left:270px\">\n",
    "Вы аналитик в онлайн-маркетплейсе «Заберу». Это настоящий рай для любителей бесполезных сувениров — там можно приобрести товары ручной работы от небольших производителей. «Заберу» проводит рекламные акции длительностью 1 день. Руководитель отдела маркетинга хочет узнать, насколько эффективны такие кампании.<br>\n",
    "<br></p>\n",
    "<ul style=\"margin-left:270px\">    \n",
    "    <li>Посчитайте затраты на каждый рекламный источник.</li>\n",
    "    <li>Посчитайте суммарную выручку, максимальную и минимальную выручку от заказов, сделанных с настольных ПК (тип устройства desktop) пользователями, которые хотя бы раз перешли из рекламного источника, на который было потрачено больше всего денег. Сделайте выводы</li>\n",
    "    <li>Введём новую метрику эффективности рекламы - дневные затраты на рекламу на пользователя по источнику. Она рассчитывается для каждого отдельного дня и равна объёму денежных средств, которые были израсходованы на то, чтобы пользователь перешёл по рекламе на сайт из данного рекламного источника. Иными словами, метрика для каждого дня равна отношению рекламных затрат по данному источнику к количеству посетителей, перешедших на сайт с данного источника. Рассчитайте для каждого дня введённую метрику. Считайте, что целевое действие было произведено тогда, когда сесия началась. Например, если посетитель провёл на сайте несколько минут с 23:50 14 апреля по 0:20 15 апреля, то его нужно включать в рассчёт за 14 апреля</li>\n",
    "    </ul>\n",
    "  </div>\n",
    "\n",
    "<div id=\"contents\" class=\"tab-pane fade\">\n",
    "    <h3 style=\"margin-left:270px\">Оглавление</h3>\n",
    "    <p style=\"margin-left:270px\">\n",
    "        <a href=\"#001\">Подключение к базе данных</a><br>\n",
    "        <a href=\"#002\">Исследуем данные</a><br>\n",
    "        <a href=\"#003\">Посчитайте затраты на каждый рекламный источник.</a><br>\n",
    "        <a href=\"#004\">Посчитайте суммарную выручку, максимальную и минимальную выручку от заказов, сделанных с настольных ПК (тип устройства desktop)</a><br>\n",
    "        <a href=\"#005\">Введём новую метрику эффективности рекламы</a><br>\n",
    "        <a href=\"#summary\">Общий вывод и рекомендации по работе с клиентами</a><br><br>\n",
    "        <b>В каком виде должно быть решено задание?</b>\n",
    "            <ul style=\"margin-left:270px\"><li>Опишите цели исследования\n",
    "                <li>Исследуйте таблицы (выведите первые строки)\n",
    "                <li>Сделайте по одному SQL-запросу для решения каждой из трёх представленных задач\n",
    "                <li>Выведите результаты каждого запроса в тетрадке\n",
    "                <li>Опишите выводы по каждой из решённых задач\n",
    "                <li>Доступы к базе данных\n",
    "                <li>Следуйте инструкции подключения к базе данных</ul>\n",
    "    <p style=\"margin-left:270px\"><b>Примечания</b></p>\n",
    "<p style=\"margin-left:270px\">Не забывайте про функции, они сильно облегчат жизнь при выполнении запросов<br>\n",
    "Ответ должен быть получен с использованием только языка запросов SQL.<br> Pandas допускается только для хранения и вывода результатов запросов.\n",
    "</p>\n",
    "  </div>\n",
    "\n",
    "  <div id=\"step1\" class=\"tab-pane fade\">\n",
    "      <h3 style=\"margin-left:270px\">Описание данных</h3>\n",
    "      <p>\n",
    "      <ul style=\"margin-left:270px\"> Таблица <b>visits</b> (лог сервера с информацией о посещениях сайта):\n",
    "          <li><code>uid</code> — уникальный идентификатор пользователя\n",
    "          <li><code>device</code> — категория устройства пользователя\n",
    "          <li><code>startts</code> — дата и время начала сессии\n",
    "          <li><code>endts</code> — дата и время окончания сессии\n",
    "          <li><code>sourceid</code> — идентификатор рекламного источника, из которого пришёл пользователь\n",
    "</ul>\n",
    "    <ul style=\"margin-left:270px\"> Таблица <b>orders</b> (информация о заказах):\n",
    "          <li><code>uid</code> — уникальный идентификатор пользователя, который сделал заказ\n",
    "          <li><code>buyts</code> — дата и время заказа\n",
    "          <li><code>revenue</code> — выручка Заберу с этого заказа\n",
    "</ul>\n",
    "   <ul style=\"margin-left:270px\"> Таблица <b>advertisment_costs</b> (информация о затратах на маркетинг):\n",
    "          <li><code>sourceid</code> — идентификатор рекламного источника\n",
    "          <li><code>dt</code> — дата\n",
    "          <li><code>costs</code> — затраты на этот рекламный источник в этот день\n",
    "</ul></div>\n",
    "\n",
    "<div id=\"output11\" class=\"tab-pane fade\">\n",
    "    <h3 style=\"margin-left:270px\">Посчитайте затраты на каждый рекламный источник.</h3>\n",
    "    <p style=\"margin-left:270px\"> Всего 10 рекламных источников. Три из них отсутствуют. Возможно, это связано с технической ошибкой или отсутствием переходов с данных рекламных размещений. <br><br> Самые большие суммарные затраты — 141 тыс., связаны с рекламным размещением №3. Далее идёт рекламный источник №4 — 61 тыс. Примерно в равной степени самые минимальные затраты приходятся на рекламные размещения №9 и 10 — 5,5 и 5.8 тыс. соответственно</p>\n",
    "  </div>\n",
    "\n",
    "<div id=\"output12\" class=\"tab-pane fade\">\n",
    "    <h3 style=\"margin-left:270px\">Посчитайте суммарную выручку, максимальную и минимальную выручку от заказов, сделанных с настольных ПК (тип устройства desktop) пользователями, которые хотя бы раз перешли из рекламного источника, на который было потрачено больше всего денег. Сделайте выводы</h3>\n",
    "    <p style=\"margin-left:270px\">\n",
    "В целом затраты на рекламный источник № 3 не окупаются с декстопной версии платформы. Разница затрат равна 35,263 тыс. Конверсия выручки от затрат составляет примерно 75%. Несмотря на то, что большая часть вложений приходится на рекламное размещение № 3, на данный момент оно не приносит прибыли.<br><br> Возможно, дополнительная выручка закрывающая часть затрат связанных с рекламным размещением № 3 приходит из мобильной версии платформы. Поэтому, данному рекламному размещению принадлежит большая часть вложений бюджета маркетинга.\n",
    "\n",
    "</p>\n",
    "  </div>\n",
    "\n",
    "  <div id=\"output13\" class=\"tab-pane fade\">\n",
    "      <h3 style=\"margin-left:270px\">Введём новую метрику эффективности рекламны - дневные затраты на рекламу на пользователя по источнику.</h3>\n",
    "      <p>\n",
    "    <p style=\"margin-left:270px\">Судя по таблице, второй и третий рекламный источник по мобильной и десктопной версии не окупаются. Затраты превышают выручку. Тоже самое касается рекламного размещения №5 по мобилке.<br> <br>Рекламные размещения №9 и №10 — окупаются. Видимо, лучше всего отрабатывает рекламный источник №10 по десктопной версии.<br><br>Метрика отображает отношение рекламных затрат по данному рекламному источнику к количеству посетителей, перешедших на сайт с данного источника.\n",
    "            </p>\n",
    "  </div>\n",
    "  \n",
    "  <div id=\"output111\" class=\"tab-pane fade\">\n",
    "      <h3 style=\"margin-left:270px\">Финальные выводы</h3>\n",
    "      <p>\n",
    "        <p style=\"margin-left:270px\">  \n",
    "          Мы проанализировали стратегию рекламной кампании маркетплейса «Заберу». Она выстраивается на рекламных акциях длительностью <b>1 день</b>. В целом рекламная кампания показала свою неэффективность.<br><br>\n",
    "Самые большие суммарные затраты — <b>141 тыс.</b>, связаны с рекламным размещением <b>№3</b>. Далее идёт рекламный источник №4 — 61 тыс. Примерно в равной степени самые минимальные затраты приходятся на рекламные размещения <b>№9 и 10</b> — 5,5 и 5,8 тыс. соответственно Основная часть рекламных размещений не окупается. <br><br><b>Видимо, лучше всего отрабатывает рекламный источник №10 по десктопной версии.</b></p>\n",
    "            </div>    \n",
    "\n",
    " </div>  </div>  </div>  </div>  </div> \n",
    "  \n",
    "  \n",
    "\n",
    "\n",
    "\n",
    "\n"
   ]
  },
  {
   "cell_type": "markdown",
   "metadata": {},
   "source": [
    "### Подключение к базе данных <a name=\"001\"></a>"
   ]
  },
  {
   "cell_type": "markdown",
   "metadata": {},
   "source": [
    "Нам для подключения запросов необходима библиотека `psycopg2`, её можно установить через `!pip` - потребуется установка `psycopg2-binary`.\n",
    "<br>Затем импортируем все библиотеки необходимые для выполнения проекта и создадим коннецкцию к базе."
   ]
  },
  {
   "cell_type": "code",
   "execution_count": 1,
   "metadata": {},
   "outputs": [
    {
     "name": "stdout",
     "output_type": "stream",
     "text": [
      "Defaulting to user installation because normal site-packages is not writeable\n",
      "Requirement already satisfied: psycopg2-binary in /home/jazz/.local/lib/python3.6/site-packages (2.8.5)\n"
     ]
    }
   ],
   "source": [
    "!pip install psycopg2-binary"
   ]
  },
  {
   "cell_type": "code",
   "execution_count": 2,
   "metadata": {},
   "outputs": [],
   "source": [
    "# импортируем библиотеки\n",
    "import pandas as pd\n",
    "from sqlalchemy import create_engine, MetaData, Table, \\\n",
    "insert, update, select, delete, desc, func, case, cast, Column, Integer, String\n",
    "import psycopg2\n",
    "\n",
    "db_config = {'user': 'praktikum_student', # имя пользователя\n",
    "             'pwd': 'Sdf4$2;d-d30pp', # пароль\n",
    "             'host': 'rc1b-wcoijxj3yxfsf3fs.mdb.yandexcloud.net',\n",
    "             'port': 6432, # порт подключения\n",
    "             'db': 'data-analyst-final-project-db'} # название базы данных\n",
    "connection_string = 'postgresql://{}:{}@{}:{}/{}'.format(db_config['user'],\n",
    "                                                         db_config['pwd'],\n",
    "                                                         db_config['host'],\n",
    "                                                         db_config['port'],\n",
    "                                                         db_config['db'])\n",
    "# коннекция к базе\n",
    "engine = create_engine(connection_string, connect_args={'sslmode':'require'}, echo=False)"
   ]
  },
  {
   "cell_type": "markdown",
   "metadata": {},
   "source": [
    "SQL-запросы мы будем выполнять с помощью пандас, и чтобы не выводить операцию постоянно, сохраним функцию."
   ]
  },
  {
   "cell_type": "code",
   "execution_count": 3,
   "metadata": {},
   "outputs": [],
   "source": [
    "def sqlquery(query):\n",
    "    return pd.io.sql.read_sql(query, con = engine)"
   ]
  },
  {
   "cell_type": "markdown",
   "metadata": {},
   "source": [
    "### Исследуем данные<a name=\"002\"></a>"
   ]
  },
  {
   "cell_type": "markdown",
   "metadata": {},
   "source": [
    "Проверим названия таблиц в базе, выгрузим названия."
   ]
  },
  {
   "cell_type": "code",
   "execution_count": 4,
   "metadata": {},
   "outputs": [
    {
     "data": {
      "text/plain": [
       "['orders', 'visits', 'advertisment_costs']"
      ]
     },
     "execution_count": 4,
     "metadata": {},
     "output_type": "execute_result"
    }
   ],
   "source": [
    "engine.table_names()"
   ]
  },
  {
   "cell_type": "markdown",
   "metadata": {},
   "source": [
    "SQLAlchemy может использоваться для автоматической загрузки таблиц из базы данных, используя то, что называется отражением. Отражение - это процесс чтения базы данных и построения метаданных на основе этой информации. Это противоположно созданию таблицы вручную и очень полезно для работы с существующими базами данных.\n",
    "\n",
    "Для отражения необходимо сначала импортировать и инициализировать объект `MetaData`. Объекты метаданных содержат информацию о таблицах, хранящихся в базе данных. Во время отражения объект `MetaData` будет автоматически заполняться информацией об отраженной таблице, поэтому нам нужно только инициализировать ее перед отражением, вызвав `MetaData ()`."
   ]
  },
  {
   "cell_type": "code",
   "execution_count": 5,
   "metadata": {},
   "outputs": [],
   "source": [
    "metadata = MetaData()"
   ]
  },
  {
   "cell_type": "code",
   "execution_count": 6,
   "metadata": {},
   "outputs": [
    {
     "data": {
      "text/plain": [
       "\"Table('orders', MetaData(bind=None), Column('id', INTEGER(), table=<orders>, primary_key=True, nullable=False, server_default=DefaultClause(<sqlalchemy.sql.elements.TextClause object at 0x7f82152dfbe0>, for_update=False)), Column('buyts', TIMESTAMP(), table=<orders>), Column('revenue', MONEY(), table=<orders>), Column('uid', VARCHAR(length=30), table=<orders>), schema=None)\""
      ]
     },
     "execution_count": 6,
     "metadata": {},
     "output_type": "execute_result"
    }
   ],
   "source": [
    "repr(Table('orders', metadata, autoload= True, autoload_with= engine))"
   ]
  },
  {
   "cell_type": "code",
   "execution_count": 7,
   "metadata": {},
   "outputs": [
    {
     "data": {
      "text/plain": [
       "\"Table('visits', MetaData(bind=None), Column('id', INTEGER(), table=<visits>, primary_key=True, nullable=False, server_default=DefaultClause(<sqlalchemy.sql.elements.TextClause object at 0x7f8214ebccc0>, for_update=False)), Column('uid', VARCHAR(length=30), table=<visits>), Column('device', VARCHAR(length=10), table=<visits>), Column('endts', TIMESTAMP(), table=<visits>), Column('sourceid', SMALLINT(), table=<visits>), Column('startts', TIMESTAMP(), table=<visits>), schema=None)\""
      ]
     },
     "execution_count": 7,
     "metadata": {},
     "output_type": "execute_result"
    }
   ],
   "source": [
    "repr(Table('visits', metadata, autoload= True, autoload_with= engine))"
   ]
  },
  {
   "cell_type": "code",
   "execution_count": 8,
   "metadata": {},
   "outputs": [
    {
     "data": {
      "text/plain": [
       "\"Table('advertisment_costs', MetaData(bind=None), Column('id', INTEGER(), table=<advertisment_costs>, primary_key=True, nullable=False, server_default=DefaultClause(<sqlalchemy.sql.elements.TextClause object at 0x7f8214e517f0>, for_update=False)), Column('sourceid', SMALLINT(), table=<advertisment_costs>), Column('dt', TIMESTAMP(), table=<advertisment_costs>), Column('costs', MONEY(), table=<advertisment_costs>), schema=None)\""
      ]
     },
     "execution_count": 8,
     "metadata": {},
     "output_type": "execute_result"
    }
   ],
   "source": [
    "repr(Table('advertisment_costs', metadata, autoload= True, autoload_with= engine))"
   ]
  },
  {
   "cell_type": "markdown",
   "metadata": {},
   "source": [
    "Ниже также еще один вариант посмотреть типы данных."
   ]
  },
  {
   "cell_type": "code",
   "execution_count": 9,
   "metadata": {},
   "outputs": [
    {
     "name": "stdout",
     "output_type": "stream",
     "text": [
      "id INTEGER\n",
      "buyts TIMESTAMP WITHOUT TIME ZONE\n",
      "revenue MONEY\n",
      "uid VARCHAR(30)\n",
      "id INTEGER\n",
      "uid VARCHAR(30)\n",
      "device VARCHAR(10)\n",
      "endts TIMESTAMP WITHOUT TIME ZONE\n",
      "sourceid SMALLINT\n",
      "startts TIMESTAMP WITHOUT TIME ZONE\n",
      "id INTEGER\n",
      "sourceid SMALLINT\n",
      "dt TIMESTAMP WITHOUT TIME ZONE\n",
      "costs MONEY\n"
     ]
    }
   ],
   "source": [
    "from sqlalchemy import inspect\n",
    "inspector = inspect(engine)\n",
    "\n",
    "for table_name in inspector.get_table_names():\n",
    "    for column in inspector.get_columns(table_name):\n",
    "#         print(\"Column: %s\" % column['type'])\n",
    "        print(column['name'], column['type'])"
   ]
  },
  {
   "cell_type": "markdown",
   "metadata": {},
   "source": [
    "Выгрузим первые пять строк каждой таблицы."
   ]
  },
  {
   "cell_type": "code",
   "execution_count": 10,
   "metadata": {},
   "outputs": [
    {
     "data": {
      "text/html": [
       "<div>\n",
       "<style scoped>\n",
       "    .dataframe tbody tr th:only-of-type {\n",
       "        vertical-align: middle;\n",
       "    }\n",
       "\n",
       "    .dataframe tbody tr th {\n",
       "        vertical-align: top;\n",
       "    }\n",
       "\n",
       "    .dataframe thead th {\n",
       "        text-align: right;\n",
       "    }\n",
       "</style>\n",
       "<table border=\"1\" class=\"dataframe\">\n",
       "  <thead>\n",
       "    <tr style=\"text-align: right;\">\n",
       "      <th></th>\n",
       "      <th>id</th>\n",
       "      <th>buyts</th>\n",
       "      <th>revenue</th>\n",
       "      <th>uid</th>\n",
       "    </tr>\n",
       "  </thead>\n",
       "  <tbody>\n",
       "    <tr>\n",
       "      <th>0</th>\n",
       "      <td>1</td>\n",
       "      <td>2017-06-01 00:10:00</td>\n",
       "      <td>$17.00</td>\n",
       "      <td>10329302124590727494</td>\n",
       "    </tr>\n",
       "    <tr>\n",
       "      <th>1</th>\n",
       "      <td>2</td>\n",
       "      <td>2017-06-01 00:25:00</td>\n",
       "      <td>$0.55</td>\n",
       "      <td>11627257723692907447</td>\n",
       "    </tr>\n",
       "    <tr>\n",
       "      <th>2</th>\n",
       "      <td>3</td>\n",
       "      <td>2017-06-01 00:27:00</td>\n",
       "      <td>$0.37</td>\n",
       "      <td>17903680561304213844</td>\n",
       "    </tr>\n",
       "    <tr>\n",
       "      <th>3</th>\n",
       "      <td>4</td>\n",
       "      <td>2017-06-01 00:29:00</td>\n",
       "      <td>$0.55</td>\n",
       "      <td>16109239769442553005</td>\n",
       "    </tr>\n",
       "    <tr>\n",
       "      <th>4</th>\n",
       "      <td>5</td>\n",
       "      <td>2017-06-01 07:58:00</td>\n",
       "      <td>$0.37</td>\n",
       "      <td>14200605875248379450</td>\n",
       "    </tr>\n",
       "  </tbody>\n",
       "</table>\n",
       "</div>"
      ],
      "text/plain": [
       "   id               buyts revenue                   uid\n",
       "0   1 2017-06-01 00:10:00  $17.00  10329302124590727494\n",
       "1   2 2017-06-01 00:25:00   $0.55  11627257723692907447\n",
       "2   3 2017-06-01 00:27:00   $0.37  17903680561304213844\n",
       "3   4 2017-06-01 00:29:00   $0.55  16109239769442553005\n",
       "4   5 2017-06-01 07:58:00   $0.37  14200605875248379450"
      ]
     },
     "execution_count": 10,
     "metadata": {},
     "output_type": "execute_result"
    }
   ],
   "source": [
    "\n",
    "orders_head = '''\n",
    "SELECT *\n",
    "FROM \n",
    "    orders\n",
    "LIMIT 5;    \n",
    "'''\n",
    "\n",
    "sqlquery(orders_head)"
   ]
  },
  {
   "cell_type": "code",
   "execution_count": 11,
   "metadata": {},
   "outputs": [
    {
     "data": {
      "text/html": [
       "<div>\n",
       "<style scoped>\n",
       "    .dataframe tbody tr th:only-of-type {\n",
       "        vertical-align: middle;\n",
       "    }\n",
       "\n",
       "    .dataframe tbody tr th {\n",
       "        vertical-align: top;\n",
       "    }\n",
       "\n",
       "    .dataframe thead th {\n",
       "        text-align: right;\n",
       "    }\n",
       "</style>\n",
       "<table border=\"1\" class=\"dataframe\">\n",
       "  <thead>\n",
       "    <tr style=\"text-align: right;\">\n",
       "      <th></th>\n",
       "      <th>id</th>\n",
       "      <th>uid</th>\n",
       "      <th>device</th>\n",
       "      <th>endts</th>\n",
       "      <th>sourceid</th>\n",
       "      <th>startts</th>\n",
       "    </tr>\n",
       "  </thead>\n",
       "  <tbody>\n",
       "    <tr>\n",
       "      <th>0</th>\n",
       "      <td>0</td>\n",
       "      <td>16879256277535980062</td>\n",
       "      <td>touch</td>\n",
       "      <td>2017-12-20 17:38:00</td>\n",
       "      <td>4</td>\n",
       "      <td>2017-12-20 17:20:00</td>\n",
       "    </tr>\n",
       "    <tr>\n",
       "      <th>1</th>\n",
       "      <td>1</td>\n",
       "      <td>104060357244891740</td>\n",
       "      <td>desktop</td>\n",
       "      <td>2018-02-19 17:21:00</td>\n",
       "      <td>2</td>\n",
       "      <td>2018-02-19 16:53:00</td>\n",
       "    </tr>\n",
       "    <tr>\n",
       "      <th>2</th>\n",
       "      <td>2</td>\n",
       "      <td>7459035603376831527</td>\n",
       "      <td>touch</td>\n",
       "      <td>2017-07-01 01:54:00</td>\n",
       "      <td>5</td>\n",
       "      <td>2017-07-01 01:54:00</td>\n",
       "    </tr>\n",
       "    <tr>\n",
       "      <th>3</th>\n",
       "      <td>3</td>\n",
       "      <td>16174680259334210214</td>\n",
       "      <td>desktop</td>\n",
       "      <td>2018-05-20 11:23:00</td>\n",
       "      <td>9</td>\n",
       "      <td>2018-05-20 10:59:00</td>\n",
       "    </tr>\n",
       "    <tr>\n",
       "      <th>4</th>\n",
       "      <td>4</td>\n",
       "      <td>9969694820036681168</td>\n",
       "      <td>desktop</td>\n",
       "      <td>2017-12-27 14:06:00</td>\n",
       "      <td>3</td>\n",
       "      <td>2017-12-27 14:06:00</td>\n",
       "    </tr>\n",
       "  </tbody>\n",
       "</table>\n",
       "</div>"
      ],
      "text/plain": [
       "   id                   uid   device               endts  sourceid  \\\n",
       "0   0  16879256277535980062    touch 2017-12-20 17:38:00         4   \n",
       "1   1    104060357244891740  desktop 2018-02-19 17:21:00         2   \n",
       "2   2   7459035603376831527    touch 2017-07-01 01:54:00         5   \n",
       "3   3  16174680259334210214  desktop 2018-05-20 11:23:00         9   \n",
       "4   4   9969694820036681168  desktop 2017-12-27 14:06:00         3   \n",
       "\n",
       "              startts  \n",
       "0 2017-12-20 17:20:00  \n",
       "1 2018-02-19 16:53:00  \n",
       "2 2017-07-01 01:54:00  \n",
       "3 2018-05-20 10:59:00  \n",
       "4 2017-12-27 14:06:00  "
      ]
     },
     "execution_count": 11,
     "metadata": {},
     "output_type": "execute_result"
    }
   ],
   "source": [
    "visits_head = '''\n",
    "SELECT *\n",
    "FROM \n",
    "    visits\n",
    "LIMIT 5;    \n",
    "'''\n",
    "\n",
    "sqlquery(visits_head)"
   ]
  },
  {
   "cell_type": "code",
   "execution_count": 12,
   "metadata": {},
   "outputs": [
    {
     "data": {
      "text/html": [
       "<div>\n",
       "<style scoped>\n",
       "    .dataframe tbody tr th:only-of-type {\n",
       "        vertical-align: middle;\n",
       "    }\n",
       "\n",
       "    .dataframe tbody tr th {\n",
       "        vertical-align: top;\n",
       "    }\n",
       "\n",
       "    .dataframe thead th {\n",
       "        text-align: right;\n",
       "    }\n",
       "</style>\n",
       "<table border=\"1\" class=\"dataframe\">\n",
       "  <thead>\n",
       "    <tr style=\"text-align: right;\">\n",
       "      <th></th>\n",
       "      <th>id</th>\n",
       "      <th>sourceid</th>\n",
       "      <th>dt</th>\n",
       "      <th>costs</th>\n",
       "    </tr>\n",
       "  </thead>\n",
       "  <tbody>\n",
       "    <tr>\n",
       "      <th>0</th>\n",
       "      <td>1</td>\n",
       "      <td>1</td>\n",
       "      <td>2017-06-01</td>\n",
       "      <td>$75.20</td>\n",
       "    </tr>\n",
       "    <tr>\n",
       "      <th>1</th>\n",
       "      <td>2</td>\n",
       "      <td>1</td>\n",
       "      <td>2017-06-02</td>\n",
       "      <td>$62.25</td>\n",
       "    </tr>\n",
       "    <tr>\n",
       "      <th>2</th>\n",
       "      <td>3</td>\n",
       "      <td>1</td>\n",
       "      <td>2017-06-03</td>\n",
       "      <td>$36.53</td>\n",
       "    </tr>\n",
       "    <tr>\n",
       "      <th>3</th>\n",
       "      <td>4</td>\n",
       "      <td>1</td>\n",
       "      <td>2017-06-04</td>\n",
       "      <td>$55.00</td>\n",
       "    </tr>\n",
       "    <tr>\n",
       "      <th>4</th>\n",
       "      <td>5</td>\n",
       "      <td>1</td>\n",
       "      <td>2017-06-05</td>\n",
       "      <td>$57.08</td>\n",
       "    </tr>\n",
       "  </tbody>\n",
       "</table>\n",
       "</div>"
      ],
      "text/plain": [
       "   id  sourceid         dt   costs\n",
       "0   1         1 2017-06-01  $75.20\n",
       "1   2         1 2017-06-02  $62.25\n",
       "2   3         1 2017-06-03  $36.53\n",
       "3   4         1 2017-06-04  $55.00\n",
       "4   5         1 2017-06-05  $57.08"
      ]
     },
     "execution_count": 12,
     "metadata": {},
     "output_type": "execute_result"
    }
   ],
   "source": [
    "costs_head = '''\n",
    "SELECT *\n",
    "FROM advertisment_costs\n",
    "LIMIT 5;    \n",
    "'''\n",
    "\n",
    "sqlquery(costs_head)"
   ]
  },
  {
   "cell_type": "markdown",
   "metadata": {},
   "source": [
    "### Выводы по разделу"
   ]
  },
  {
   "cell_type": "markdown",
   "metadata": {},
   "source": [
    "Мы посмотрели типы данных, информацию о таблицах (проверили все ли таблицы у нас были указаны в водных данных), а посмотрели на шапки таблиц.\n",
    "\n",
    "Таблицы `orders` и `visits` у нас связаны по столбцу `uid`, а `visits` и `advertisment_costs` мы можем связать по `sourceid`."
   ]
  },
  {
   "cell_type": "markdown",
   "metadata": {},
   "source": [
    "### Посчитайте затраты на каждый рекламный источник\n",
    "<a name=\"003\"></a>"
   ]
  },
  {
   "cell_type": "markdown",
   "metadata": {},
   "source": [
    "Затраты у нас содержатся в таблице `advertisment_costs`, а также там мы можем заметить что у нас есть сведения по источникам.\n",
    "\n",
    "Выполним запрос где мы выберем столбцы `sourceid` и посчитаем к нему сумму по `costs`, группировку осуществим по источникам - `sourceid`."
   ]
  },
  {
   "cell_type": "code",
   "execution_count": 13,
   "metadata": {
    "scrolled": false
   },
   "outputs": [
    {
     "data": {
      "text/html": [
       "<div>\n",
       "<style scoped>\n",
       "    .dataframe tbody tr th:only-of-type {\n",
       "        vertical-align: middle;\n",
       "    }\n",
       "\n",
       "    .dataframe tbody tr th {\n",
       "        vertical-align: top;\n",
       "    }\n",
       "\n",
       "    .dataframe thead th {\n",
       "        text-align: right;\n",
       "    }\n",
       "</style>\n",
       "<table border=\"1\" class=\"dataframe\">\n",
       "  <thead>\n",
       "    <tr style=\"text-align: right;\">\n",
       "      <th></th>\n",
       "      <th>sourceid</th>\n",
       "      <th>sum</th>\n",
       "    </tr>\n",
       "  </thead>\n",
       "  <tbody>\n",
       "    <tr>\n",
       "      <th>0</th>\n",
       "      <td>3</td>\n",
       "      <td>$141,321.63</td>\n",
       "    </tr>\n",
       "    <tr>\n",
       "      <th>1</th>\n",
       "      <td>4</td>\n",
       "      <td>$61,073.60</td>\n",
       "    </tr>\n",
       "    <tr>\n",
       "      <th>2</th>\n",
       "      <td>5</td>\n",
       "      <td>$51,757.10</td>\n",
       "    </tr>\n",
       "    <tr>\n",
       "      <th>3</th>\n",
       "      <td>2</td>\n",
       "      <td>$42,806.04</td>\n",
       "    </tr>\n",
       "    <tr>\n",
       "      <th>4</th>\n",
       "      <td>1</td>\n",
       "      <td>$20,833.27</td>\n",
       "    </tr>\n",
       "    <tr>\n",
       "      <th>5</th>\n",
       "      <td>10</td>\n",
       "      <td>$5,822.49</td>\n",
       "    </tr>\n",
       "    <tr>\n",
       "      <th>6</th>\n",
       "      <td>9</td>\n",
       "      <td>$5,517.49</td>\n",
       "    </tr>\n",
       "  </tbody>\n",
       "</table>\n",
       "</div>"
      ],
      "text/plain": [
       "   sourceid          sum\n",
       "0         3  $141,321.63\n",
       "1         4   $61,073.60\n",
       "2         5   $51,757.10\n",
       "3         2   $42,806.04\n",
       "4         1   $20,833.27\n",
       "5        10    $5,822.49\n",
       "6         9    $5,517.49"
      ]
     },
     "execution_count": 13,
     "metadata": {},
     "output_type": "execute_result"
    }
   ],
   "source": [
    "query_1 = '''\n",
    "SELECT sourceid, sum(costs) as sum\n",
    "FROM advertisment_costs\n",
    "GROUP BY sourceid\n",
    "ORDER BY sum DESC;\n",
    "'''\n",
    "\n",
    "sqlquery(query_1)"
   ]
  },
  {
   "cell_type": "markdown",
   "metadata": {},
   "source": [
    "<div style=\"border:solid blue 2px; padding: 20px\"> <h1 style=\"color:blue; margin-bottom:20px\">Комментарий наставника</h1>\n",
    "\n",
    "Тут всё посчитано верно, молодец\n"
   ]
  },
  {
   "cell_type": "markdown",
   "metadata": {},
   "source": [
    "Всего 10 рекламных источников. Три из них отсутствуют. Возможно, это связано с технической ошибкой или отсутствием переходов с данных рекламных размещений."
   ]
  },
  {
   "cell_type": "markdown",
   "metadata": {},
   "source": [
    "Больше всего компания тратит на 3, 4 и 5 источники, в сумме примерно 250 тыс долларов.\n",
    "Меньше всего затраты на 9 источник, 5,5 тыс долларов.\n",
    "\n",
    "Посмотрим, сколько же всего пришло клиентов по каждому из источников."
   ]
  },
  {
   "cell_type": "code",
   "execution_count": 14,
   "metadata": {},
   "outputs": [
    {
     "data": {
      "text/html": [
       "<div>\n",
       "<style scoped>\n",
       "    .dataframe tbody tr th:only-of-type {\n",
       "        vertical-align: middle;\n",
       "    }\n",
       "\n",
       "    .dataframe tbody tr th {\n",
       "        vertical-align: top;\n",
       "    }\n",
       "\n",
       "    .dataframe thead th {\n",
       "        text-align: right;\n",
       "    }\n",
       "</style>\n",
       "<table border=\"1\" class=\"dataframe\">\n",
       "  <thead>\n",
       "    <tr style=\"text-align: right;\">\n",
       "      <th></th>\n",
       "      <th>sourceid</th>\n",
       "      <th>users</th>\n",
       "    </tr>\n",
       "  </thead>\n",
       "  <tbody>\n",
       "    <tr>\n",
       "      <th>0</th>\n",
       "      <td>4</td>\n",
       "      <td>101653</td>\n",
       "    </tr>\n",
       "    <tr>\n",
       "      <th>1</th>\n",
       "      <td>3</td>\n",
       "      <td>85448</td>\n",
       "    </tr>\n",
       "    <tr>\n",
       "      <th>2</th>\n",
       "      <td>5</td>\n",
       "      <td>66711</td>\n",
       "    </tr>\n",
       "    <tr>\n",
       "      <th>3</th>\n",
       "      <td>2</td>\n",
       "      <td>47473</td>\n",
       "    </tr>\n",
       "    <tr>\n",
       "      <th>4</th>\n",
       "      <td>1</td>\n",
       "      <td>33943</td>\n",
       "    </tr>\n",
       "    <tr>\n",
       "      <th>5</th>\n",
       "      <td>9</td>\n",
       "      <td>13257</td>\n",
       "    </tr>\n",
       "    <tr>\n",
       "      <th>6</th>\n",
       "      <td>10</td>\n",
       "      <td>10005</td>\n",
       "    </tr>\n",
       "    <tr>\n",
       "      <th>7</th>\n",
       "      <td>7</td>\n",
       "      <td>36</td>\n",
       "    </tr>\n",
       "    <tr>\n",
       "      <th>8</th>\n",
       "      <td>6</td>\n",
       "      <td>6</td>\n",
       "    </tr>\n",
       "  </tbody>\n",
       "</table>\n",
       "</div>"
      ],
      "text/plain": [
       "   sourceid   users\n",
       "0         4  101653\n",
       "1         3   85448\n",
       "2         5   66711\n",
       "3         2   47473\n",
       "4         1   33943\n",
       "5         9   13257\n",
       "6        10   10005\n",
       "7         7      36\n",
       "8         6       6"
      ]
     },
     "execution_count": 14,
     "metadata": {},
     "output_type": "execute_result"
    }
   ],
   "source": [
    "query_2 = '''\n",
    "SELECT sourceid, count(uid) as users\n",
    "FROM visits\n",
    "GROUP BY sourceid\n",
    "ORDER BY users DESC;\n",
    "'''\n",
    "\n",
    "sqlquery(query_2)"
   ]
  },
  {
   "cell_type": "markdown",
   "metadata": {},
   "source": [
    "### Вывод\n",
    "Самые большие суммарные затраты — 141 тыс., связаны с рекламным размещением **№3**. Далее идёт рекламный источник №4 — 61 тыс. Примерно в равной степени самые минимальные затраты приходятся на рекламные размещения №9 и 10 — 5,5 тыс. и 5.8 тыс соответственно.\n",
    "\n",
    "На 7 и 6 источники у компании нет затрат, скорей всего это сарафанное радио или какие-то публикации в интернете, за которые компания не вкладывала деньги.\n",
    "\n",
    "С 3 4 и 5 источников приходят максимальное количество изеров, поэтому такие вложения оправданы на рекламу.\n",
    "\n",
    "---"
   ]
  },
  {
   "cell_type": "markdown",
   "metadata": {},
   "source": [
    "### Посчитайте суммарную выручку, максимальную и минимальную выручку от заказов, сделанных с настольных ПК (тип устройства desktop) пользователями, которые хотя бы раз перешли из рекламного источника, на который было потрачено больше всего денег.\n",
    "<a name=\"004\"></a>"
   ]
  },
  {
   "cell_type": "code",
   "execution_count": 15,
   "metadata": {},
   "outputs": [
    {
     "data": {
      "text/html": [
       "<div>\n",
       "<style scoped>\n",
       "    .dataframe tbody tr th:only-of-type {\n",
       "        vertical-align: middle;\n",
       "    }\n",
       "\n",
       "    .dataframe tbody tr th {\n",
       "        vertical-align: top;\n",
       "    }\n",
       "\n",
       "    .dataframe thead th {\n",
       "        text-align: right;\n",
       "    }\n",
       "</style>\n",
       "<table border=\"1\" class=\"dataframe\">\n",
       "  <thead>\n",
       "    <tr style=\"text-align: right;\">\n",
       "      <th></th>\n",
       "      <th>sum</th>\n",
       "      <th>max_revenue</th>\n",
       "      <th>min_revenue</th>\n",
       "      <th>scope</th>\n",
       "    </tr>\n",
       "  </thead>\n",
       "  <tbody>\n",
       "    <tr>\n",
       "      <th>0</th>\n",
       "      <td>$106,058.86</td>\n",
       "      <td>$2,633.28</td>\n",
       "      <td>$0.00</td>\n",
       "      <td>$2,633.28</td>\n",
       "    </tr>\n",
       "  </tbody>\n",
       "</table>\n",
       "</div>"
      ],
      "text/plain": [
       "           sum max_revenue min_revenue      scope\n",
       "0  $106,058.86   $2,633.28       $0.00  $2,633.28"
      ]
     },
     "execution_count": 15,
     "metadata": {},
     "output_type": "execute_result"
    }
   ],
   "source": [
    "query3 = '''\n",
    "SELECT sum(revenue) AS sum,\n",
    "       max(revenue) AS max_revenue,\n",
    "       min(revenue) AS min_revenue,\n",
    "       max(revenue) - min(revenue) AS scope\n",
    "       \n",
    "FROM orders o\n",
    "\n",
    "WHERE \n",
    "    o.uid IN (\n",
    "              SELECT DISTINCT v.uid\n",
    "              \n",
    "              FROM visits v\n",
    "              \n",
    "              WHERE\n",
    "                   v.device = 'desktop' AND\n",
    "                   v.sourceid = '3');\n",
    "'''\n",
    "\n",
    "sqlquery(query3)"
   ]
  },
  {
   "cell_type": "markdown",
   "metadata": {},
   "source": [
    "<div style=\"border:solid blue 2px; padding: 20px\"> <h1 style=\"color:blue; margin-bottom:20px\">Комментарий наставника</h1>\n",
    "\n",
    "Результаты запроса правильные, супер!"
   ]
  },
  {
   "cell_type": "markdown",
   "metadata": {},
   "source": [
    "Суммарная выручка составляет 106,058 тыс., максимальная — 2,633 $. Минимальная выручка равна 0. Возможно, это заказы пользователей, которые приобрели товары бесплатно (акция)."
   ]
  },
  {
   "cell_type": "markdown",
   "metadata": {},
   "source": [
    "### Вывод\n",
    "В целом затраты на рекламный источник № 3 не окупаются с декстопной версии платформы. Разница затрат равна 35,263 тыс. Конверсия выручки от затрат составляет примерно 75%. Несмотря на то, что большая часть вложений приходится на рекламное размещение № 3, на данный момент оно не приносит прибыли.\n",
    "\n",
    "Возможно, дополнительная выручка закрывающая часть затрат связанных с рекламным размещением № 3 приходит из мобильной версии платформы. Поэтому, данному рекламному размещению принадлежит большая часть вложений бюджета маркетинга."
   ]
  },
  {
   "cell_type": "markdown",
   "metadata": {},
   "source": [
    "### Введём новую метрику эффективности рекламы - дневные затраты на рекламу на пользователя по источнику. \n",
    "<a name=\"005\"></a>\n",
    "Она рассчитывается для каждого отдельного дня и равна объёму денежных средств, которые были израсходованы на то, чтобы пользователь перешёл по рекламе на сайт из данного рекламного источника. Иными словами, метрика для каждого дня равна отношению рекламных затрат по данному источнику к количеству посетителей, перешедших на сайт с данного источника. Рассчитайте для каждого дня введённую метрику. Считайте, что целевое действие было произведено тогда, когда сесия началась. Например, если посетитель провёл на сайте несколько минут с 23:50 14 апреля по 0:20 15 апреля, то его нужно включать в рассчёт за 14 апреля"
   ]
  },
  {
   "cell_type": "code",
   "execution_count": 16,
   "metadata": {},
   "outputs": [
    {
     "data": {
      "text/html": [
       "<div>\n",
       "<style scoped>\n",
       "    .dataframe tbody tr th:only-of-type {\n",
       "        vertical-align: middle;\n",
       "    }\n",
       "\n",
       "    .dataframe tbody tr th {\n",
       "        vertical-align: top;\n",
       "    }\n",
       "\n",
       "    .dataframe thead th {\n",
       "        text-align: right;\n",
       "    }\n",
       "</style>\n",
       "<table border=\"1\" class=\"dataframe\">\n",
       "  <thead>\n",
       "    <tr style=\"text-align: right;\">\n",
       "      <th></th>\n",
       "      <th>date</th>\n",
       "      <th>device</th>\n",
       "      <th>sourceid</th>\n",
       "      <th>total_revenue</th>\n",
       "      <th>total_costs</th>\n",
       "      <th>markt_metric</th>\n",
       "    </tr>\n",
       "  </thead>\n",
       "  <tbody>\n",
       "    <tr>\n",
       "      <th>0</th>\n",
       "      <td>2017-06-01</td>\n",
       "      <td>desktop</td>\n",
       "      <td>1</td>\n",
       "      <td>$139.36</td>\n",
       "      <td>$75.20</td>\n",
       "      <td>$64.16</td>\n",
       "    </tr>\n",
       "    <tr>\n",
       "      <th>1</th>\n",
       "      <td>2017-06-01</td>\n",
       "      <td>desktop</td>\n",
       "      <td>2</td>\n",
       "      <td>$3.79</td>\n",
       "      <td>$132.56</td>\n",
       "      <td>-$128.77</td>\n",
       "    </tr>\n",
       "    <tr>\n",
       "      <th>2</th>\n",
       "      <td>2017-06-01</td>\n",
       "      <td>touch</td>\n",
       "      <td>2</td>\n",
       "      <td>$11.55</td>\n",
       "      <td>$132.56</td>\n",
       "      <td>-$121.01</td>\n",
       "    </tr>\n",
       "    <tr>\n",
       "      <th>3</th>\n",
       "      <td>2017-06-01</td>\n",
       "      <td>desktop</td>\n",
       "      <td>3</td>\n",
       "      <td>$71.69</td>\n",
       "      <td>$349.38</td>\n",
       "      <td>-$277.69</td>\n",
       "    </tr>\n",
       "    <tr>\n",
       "      <th>4</th>\n",
       "      <td>2017-06-01</td>\n",
       "      <td>touch</td>\n",
       "      <td>3</td>\n",
       "      <td>$10.46</td>\n",
       "      <td>$349.38</td>\n",
       "      <td>-$338.92</td>\n",
       "    </tr>\n",
       "    <tr>\n",
       "      <th>...</th>\n",
       "      <td>...</td>\n",
       "      <td>...</td>\n",
       "      <td>...</td>\n",
       "      <td>...</td>\n",
       "      <td>...</td>\n",
       "      <td>...</td>\n",
       "    </tr>\n",
       "    <tr>\n",
       "      <th>4656</th>\n",
       "      <td>2018-05-31</td>\n",
       "      <td>touch</td>\n",
       "      <td>5</td>\n",
       "      <td>$61.11</td>\n",
       "      <td>$398.04</td>\n",
       "      <td>-$336.93</td>\n",
       "    </tr>\n",
       "    <tr>\n",
       "      <th>4657</th>\n",
       "      <td>2018-05-31</td>\n",
       "      <td>desktop</td>\n",
       "      <td>9</td>\n",
       "      <td>$65.51</td>\n",
       "      <td>$27.37</td>\n",
       "      <td>$38.14</td>\n",
       "    </tr>\n",
       "    <tr>\n",
       "      <th>4658</th>\n",
       "      <td>2018-05-31</td>\n",
       "      <td>touch</td>\n",
       "      <td>9</td>\n",
       "      <td>$75.35</td>\n",
       "      <td>$27.37</td>\n",
       "      <td>$47.98</td>\n",
       "    </tr>\n",
       "    <tr>\n",
       "      <th>4659</th>\n",
       "      <td>2018-05-31</td>\n",
       "      <td>desktop</td>\n",
       "      <td>10</td>\n",
       "      <td>$309.98</td>\n",
       "      <td>$17.60</td>\n",
       "      <td>$292.38</td>\n",
       "    </tr>\n",
       "    <tr>\n",
       "      <th>4660</th>\n",
       "      <td>2018-05-31</td>\n",
       "      <td>touch</td>\n",
       "      <td>10</td>\n",
       "      <td>$37.70</td>\n",
       "      <td>$17.60</td>\n",
       "      <td>$20.10</td>\n",
       "    </tr>\n",
       "  </tbody>\n",
       "</table>\n",
       "<p>4661 rows × 6 columns</p>\n",
       "</div>"
      ],
      "text/plain": [
       "            date   device  sourceid total_revenue total_costs markt_metric\n",
       "0     2017-06-01  desktop         1       $139.36      $75.20       $64.16\n",
       "1     2017-06-01  desktop         2         $3.79     $132.56     -$128.77\n",
       "2     2017-06-01    touch         2        $11.55     $132.56     -$121.01\n",
       "3     2017-06-01  desktop         3        $71.69     $349.38     -$277.69\n",
       "4     2017-06-01    touch         3        $10.46     $349.38     -$338.92\n",
       "...          ...      ...       ...           ...         ...          ...\n",
       "4656  2018-05-31    touch         5        $61.11     $398.04     -$336.93\n",
       "4657  2018-05-31  desktop         9        $65.51      $27.37       $38.14\n",
       "4658  2018-05-31    touch         9        $75.35      $27.37       $47.98\n",
       "4659  2018-05-31  desktop        10       $309.98      $17.60      $292.38\n",
       "4660  2018-05-31    touch        10        $37.70      $17.60       $20.10\n",
       "\n",
       "[4661 rows x 6 columns]"
      ]
     },
     "execution_count": 16,
     "metadata": {},
     "output_type": "execute_result"
    }
   ],
   "source": [
    "\n",
    "query4 = ''' SELECT\n",
    "                        new_visits.date_revenue AS date,\n",
    "                        new_visits.device,\n",
    "                        new_visits.sourceid,\n",
    "                        SUM(new_visits.revenue) AS total_revenue,\n",
    "                        SUM(new_advertisment_costs.costs) AS total_costs,\n",
    "                        SUM(new_visits.revenue) - SUM(new_advertisment_costs.costs) AS markt_metric\n",
    "                    FROM (\n",
    "                        SELECT\n",
    "                           device,\n",
    "                           sourceid,\n",
    "                           SUM(o.revenue) as revenue, \n",
    "                           DATE_TRUNC('day', o.buyts)::date AS date_revenue\n",
    "                        FROM\n",
    "                           orders o\n",
    "                        RIGHT JOIN (SELECT \n",
    "                                        uid, \n",
    "                                        MAX(sourceid) AS sourceid \n",
    "                                    FROM\n",
    "                                        visits \n",
    "                                    GROUP BY \n",
    "                                        uid\n",
    "                                    ) AS table_visits_1 ON table_visits_1.uid = o.uid\n",
    "                        INNER JOIN (SELECT \n",
    "                                        uid, \n",
    "                                        MAX(device) AS device \n",
    "                                    FROM \n",
    "                                        visits \n",
    "                                    GROUP BY \n",
    "                                        uid\n",
    "                                    ) AS table_visits_2 ON table_visits_2.uid = o.uid\n",
    "                        GROUP BY \n",
    "                            table_visits_2.device, table_visits_1.sourceid, date_revenue\n",
    "                                   ) AS new_visits\n",
    "                    INNER JOIN (SELECT\n",
    "                                    sourceid, \n",
    "                                    SUM(costs) AS costs, \n",
    "                                    advertisment_costs.dt::date AS date_costs \n",
    "                                FROM \n",
    "                                    advertisment_costs\n",
    "                                GROUP BY \n",
    "                                    sourceid, \n",
    "                                    date_costs\n",
    "                               ) AS new_advertisment_costs \n",
    "                                 ON new_visits.sourceid = new_advertisment_costs.sourceid \n",
    "                                 AND new_visits.date_revenue = new_advertisment_costs.date_costs\n",
    " \n",
    "                    GROUP BY\n",
    "                        new_visits.device, \n",
    "                        new_visits.sourceid,\n",
    "                        new_visits.date_revenue\n",
    "                    ORDER BY\n",
    "                        date, sourceid\n",
    "                '''\n",
    "\n",
    "sqlquery(query4)"
   ]
  },
  {
   "cell_type": "markdown",
   "metadata": {},
   "source": []
  },
  {
   "cell_type": "markdown",
   "metadata": {},
   "source": [
    "Судя по таблице, второй и третий рекламный источник по мобильной и десктопной версии не окупаются. Затраты превышают выручку. Тоже самое касается рекламного размещения №5 по мобилке.\n",
    "\n",
    "Рекламные размещения №9 и №10 — окупаются. Видимо, лучше всего отрабатывает рекламный источник №10 по десктопной версии.\n",
    "\n",
    "Метрика отображает отношение рекламных затрат по данному рекламному источнику к количеству посетителей, перешедших на сайт с данного источника."
   ]
  },
  {
   "cell_type": "code",
   "execution_count": 17,
   "metadata": {},
   "outputs": [
    {
     "data": {
      "text/html": [
       "<div>\n",
       "<style scoped>\n",
       "    .dataframe tbody tr th:only-of-type {\n",
       "        vertical-align: middle;\n",
       "    }\n",
       "\n",
       "    .dataframe tbody tr th {\n",
       "        vertical-align: top;\n",
       "    }\n",
       "\n",
       "    .dataframe thead th {\n",
       "        text-align: right;\n",
       "    }\n",
       "</style>\n",
       "<table border=\"1\" class=\"dataframe\">\n",
       "  <thead>\n",
       "    <tr style=\"text-align: right;\">\n",
       "      <th></th>\n",
       "      <th>date</th>\n",
       "      <th>sourceid</th>\n",
       "      <th>metrica</th>\n",
       "    </tr>\n",
       "  </thead>\n",
       "  <tbody>\n",
       "    <tr>\n",
       "      <th>0</th>\n",
       "      <td>2017-06-01</td>\n",
       "      <td>1</td>\n",
       "      <td>$1.10</td>\n",
       "    </tr>\n",
       "    <tr>\n",
       "      <th>1</th>\n",
       "      <td>2017-06-01</td>\n",
       "      <td>2</td>\n",
       "      <td>$1.55</td>\n",
       "    </tr>\n",
       "    <tr>\n",
       "      <th>2</th>\n",
       "      <td>2017-06-01</td>\n",
       "      <td>3</td>\n",
       "      <td>$1.88</td>\n",
       "    </tr>\n",
       "    <tr>\n",
       "      <th>3</th>\n",
       "      <td>2017-06-01</td>\n",
       "      <td>4</td>\n",
       "      <td>$0.54</td>\n",
       "    </tr>\n",
       "    <tr>\n",
       "      <th>4</th>\n",
       "      <td>2017-06-01</td>\n",
       "      <td>5</td>\n",
       "      <td>$0.60</td>\n",
       "    </tr>\n",
       "    <tr>\n",
       "      <th>...</th>\n",
       "      <td>...</td>\n",
       "      <td>...</td>\n",
       "      <td>...</td>\n",
       "    </tr>\n",
       "    <tr>\n",
       "      <th>2536</th>\n",
       "      <td>2018-05-31</td>\n",
       "      <td>3</td>\n",
       "      <td>$2.03</td>\n",
       "    </tr>\n",
       "    <tr>\n",
       "      <th>2537</th>\n",
       "      <td>2018-05-31</td>\n",
       "      <td>4</td>\n",
       "      <td>$0.96</td>\n",
       "    </tr>\n",
       "    <tr>\n",
       "      <th>2538</th>\n",
       "      <td>2018-05-31</td>\n",
       "      <td>5</td>\n",
       "      <td>$1.57</td>\n",
       "    </tr>\n",
       "    <tr>\n",
       "      <th>2539</th>\n",
       "      <td>2018-05-31</td>\n",
       "      <td>9</td>\n",
       "      <td>$0.44</td>\n",
       "    </tr>\n",
       "    <tr>\n",
       "      <th>2540</th>\n",
       "      <td>2018-05-31</td>\n",
       "      <td>10</td>\n",
       "      <td>$0.13</td>\n",
       "    </tr>\n",
       "  </tbody>\n",
       "</table>\n",
       "<p>2541 rows × 3 columns</p>\n",
       "</div>"
      ],
      "text/plain": [
       "           date  sourceid metrica\n",
       "0    2017-06-01         1   $1.10\n",
       "1    2017-06-01         2   $1.55\n",
       "2    2017-06-01         3   $1.88\n",
       "3    2017-06-01         4   $0.54\n",
       "4    2017-06-01         5   $0.60\n",
       "...         ...       ...     ...\n",
       "2536 2018-05-31         3   $2.03\n",
       "2537 2018-05-31         4   $0.96\n",
       "2538 2018-05-31         5   $1.57\n",
       "2539 2018-05-31         9   $0.44\n",
       "2540 2018-05-31        10   $0.13\n",
       "\n",
       "[2541 rows x 3 columns]"
      ]
     },
     "execution_count": 17,
     "metadata": {},
     "output_type": "execute_result"
    }
   ],
   "source": [
    "query5 ='''   SELECT\n",
    "                    t.date,\n",
    "                    t.sourceid,\n",
    "                    advertisment_costs.costs / t.cnt_users as metrica\n",
    "            FROM\n",
    "                    advertisment_costs JOIN\n",
    "                            (\n",
    "                                SELECT\n",
    "                                    DATE_TRUNC('day', startts::timestamp) as date,\n",
    "                                    count(uid) as cnt_users,\n",
    "                                    sourceid\n",
    "                                FROM\n",
    "                                    visits\n",
    "                                GROUP BY\n",
    "                                    sourceid,\n",
    "                                    date\n",
    "        ) as t ON advertisment_costs.sourceid = t.sourceid AND \n",
    "        DATE_TRUNC('day', advertisment_costs.dt::timestamp) = t.date\n",
    "\n",
    "ORDER BY \n",
    "    t.date, \n",
    "    t.sourceid'''\n",
    "\n",
    "sqlquery(query5)"
   ]
  },
  {
   "cell_type": "markdown",
   "metadata": {},
   "source": [
    "<div style=\"border:solid blue 2px; padding: 20px\"> <h1 style=\"color:blue; margin-bottom:20px\">Комментарий наставника</h1>\n",
    "\n",
    "Результаты верные, замечательно!"
   ]
  },
  {
   "cell_type": "markdown",
   "metadata": {},
   "source": [
    "## Еще раз о выводах и общие заключения\n",
    "<a name=\"summary\"></a>"
   ]
  },
  {
   "cell_type": "markdown",
   "metadata": {},
   "source": [
    "\n",
    "<div class=\"col-md-3\">\n",
    "  <ul class=\"nav flex-column nav-pills\">\n",
    "    <li class=\"active\"><a class=\"nav-link\" id=\"home-tab\" data-toggle=\"pill\" href=\"#output1\" role=\"tab\" aria-controls=\"output1\" aria-selected=\"true\">Посчитайте затраты на каждый рекламный источник.</a></li>\n",
    "    <li><a class=\"nav-link\" id=\"profile-tab\" data-toggle=\"pill\" href=\"#output2\" role=\"tab\" aria-controls=\"output2\" aria-selected=\"false\">Посчитайте выручку от заказов, сделанных с настольных ПК (тип устройства desktop)</a></li>\n",
    "    <li><a class=\"nav-link\" id=\"profile-tab\" data-toggle=\"pill\" href=\"#output3\" role=\"tab\" aria-controls=\"output3\" aria-selected=\"false\">Ввод новой метрики эффективности рекламы - дневные затраты на рекламу на пользователя по источнику</a></li>\n",
    "    <li><a class=\"nav-link\" id=\"contact-tab\" data-toggle=\"pill\" href=\"#output\" role=\"tab\" aria-controls=\"output\" aria-selected=\"false\">Финальные выводы</a></li>\n",
    "   \n",
    "  </ul>\n",
    "</div>\n",
    "\n",
    "\n",
    "<div class=\"tab-content\">\n",
    "<div id=\"output1\" class=\"tab-pane fade in active\">\n",
    "    <h3 style=\"margin-left:270px\">Посчитайте затраты на каждый рекламный источник.</h3>\n",
    "    <p style=\"margin-left:270px\"> Всего 10 рекламных источников. Три из них отсутствуют. Возможно, это связано с технической ошибкой или отсутствием переходов с данных рекламных размещений. <br><br> Самые большие суммарные затраты — 141 тыс., связаны с рекламным размещением №3. Далее идёт рекламный источник №4 — 61 тыс. Примерно в равной степени самые минимальные затраты приходятся на рекламные размещения №9 и 10 — 5,5 и 5.8 тыс. соответственно</p>\n",
    "  </div>\n",
    "\n",
    "<div id=\"output2\" class=\"tab-pane fade\">\n",
    "    <h3 style=\"margin-left:270px\">Посчитайте суммарную выручку, максимальную и минимальную выручку от заказов, сделанных с настольных ПК (тип устройства desktop) пользователями, которые хотя бы раз перешли из рекламного источника, на который было потрачено больше всего денег. Сделайте выводы</h3>\n",
    "    <p style=\"margin-left:270px\">\n",
    "В целом затраты на рекламный источник № 3 не окупаются с декстопной версии платформы. Разница затрат равна 35,263 тыс. Конверсия выручки от затрат составляет примерно 75%. Несмотря на то, что большая часть вложений приходится на рекламное размещение № 3, на данный момент оно не приносит прибыли.<br><br> Возможно, дополнительная выручка закрывающая часть затрат связанных с рекламным размещением № 3 приходит из мобильной версии платформы. Поэтому, данному рекламному размещению принадлежит большая часть вложений бюджета маркетинга.\n",
    "\n",
    "</p>\n",
    "  </div>\n",
    "\n",
    "  <div id=\"output3\" class=\"tab-pane fade\">\n",
    "      <h3 style=\"margin-left:270px\">Введём новую метрику эффективности рекламны - дневные затраты на рекламу на пользователя по источнику.</h3>\n",
    "      <p>\n",
    "    <p style=\"margin-left:270px\">Судя по таблице, второй и третий рекламный источник по мобильной и десктопной версии не окупаются. Затраты превышают выручку. Тоже самое касается рекламного размещения №5 по мобилке.<br> <br>Рекламные размещения №9 и №10 — окупаются. Видимо, лучше всего отрабатывает рекламный источник №10 по десктопной версии.<br><br>Метрика отображает отношение рекламных затрат по данному рекламному источнику к количеству посетителей, перешедших на сайт с данного источника.\n",
    "            </p>\n",
    "  </div>\n",
    "  \n",
    "  <div id=\"output\" class=\"tab-pane fade\">\n",
    "      <h3 style=\"margin-left:270px\">Финальные выводы</h3>\n",
    "      <p>\n",
    "        <p style=\"margin-left:270px\">  \n",
    "          Мы проанализировали стратегию рекламной кампании маркетплейса «Заберу». Она выстраивается на рекламных акциях длительностью <b>1 день</b>. В целом рекламная кампания показала свою неэффективность.<br><br>\n",
    "Самые большие суммарные затраты — <b>141 тыс.</b>, связаны с рекламным размещением <b>№3</b>. Далее идёт рекламный источник №4 — 61 тыс. Примерно в равной степени самые минимальные затраты приходятся на рекламные размещения <b>№9 и 10</b> — 5,5 и 5,8 тыс. соответственно Основная часть рекламных размещений не окупается. <br><br><b>Видимо, лучше всего отрабатывает рекламный источник №10 по десктопной версии.</b></p>\n",
    "            </div>"
   ]
  },
  {
   "cell_type": "code",
   "execution_count": null,
   "metadata": {},
   "outputs": [],
   "source": []
  }
 ],
 "metadata": {
  "hide_input": false,
  "kernelspec": {
   "display_name": "Python 3",
   "language": "python",
   "name": "python3"
  },
  "language_info": {
   "codemirror_mode": {
    "name": "ipython",
    "version": 3
   },
   "file_extension": ".py",
   "mimetype": "text/x-python",
   "name": "python",
   "nbconvert_exporter": "python",
   "pygments_lexer": "ipython3",
   "version": "3.7.4"
  }
 },
 "nbformat": 4,
 "nbformat_minor": 4
}
